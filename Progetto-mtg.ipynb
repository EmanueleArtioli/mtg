{
 "cells": [
  {
   "cell_type": "markdown",
   "metadata": {},
   "source": [
    "# Foundation of Probability and Statistics\n",
    "# ANALISI GIOCO DI CARTE COLLEZIONABILI: MAGIC THE GATHERING\n",
    "\n",
    "<div align=\"right\"><b>di Emanuele Artioli</b></div>\n",
    "<div align=\"center\"><b>ABSTRACT</b></div>\n",
    "Questo progetto analizza componenti estetiche e funzionali del database di carte collezionabili Magic the Gathering dal 1993, anno della sua presentazione.\n",
    "<div align=\"center\"><b>GIOCO</b></div>\n",
    "In breve, MtG rappresenta un duello tra maghi, che a turni lanciano magie rappresentate dalle proprie carte. Queste magie richiedono mana, energia elementale di 5 colori attinta da altrettanti tipi di carte terra: Pianura per il bianco, Isola per il blu, Palude per il nero, Montagna per il rosso, e Foresta per il verde. Tra i tipi di magie troviamo creature, incantesimi, stregonerie, artefatti, e non solo. Ogni tipo di magia ha caratteristiche peculiari.\n",
    "<div align=\"center\"><b>DATI</b></div>\n",
    "Il dataset è stato scaricato da https://mtgjson.com/ e importato in forma di database SQLite tramite libreria RSQLite. Per la presente analisi, ci concentriamo sulle tabelle:\n",
    "<ul>\n",
    "    <li>cards, contenente 70 variabili per più di 50000 carte\n",
    "    <li>prices, una lista dei prezzi aggiornata quotidianamente\n",
    "    <li>legalities, la lista dei tornei nei quali ogni carta può essere giocata.\n",
    "</ul>\n",
    "Il dataset è relativamente ordinato, ma MtG ha negli anni introdotto molte regole aggiuntive che hanno modificato o sostituito quelle precedenti, rendendo obsolete alcune carte che sono pertanto una complicazione, peraltro difficile da individuare, non secondaria. Si è allora deciso di compiere un'analisi statistica su una parte del dataset "
   ]
  },
  {
   "cell_type": "code",
   "execution_count": 1,
   "metadata": {
    "jupyter": {
     "source_hidden": true
    }
   },
   "outputs": [
    {
     "name": "stderr",
     "output_type": "stream",
     "text": [
      "Registered S3 methods overwritten by 'ggplot2':\n",
      "  method         from \n",
      "  [.quosures     rlang\n",
      "  c.quosures     rlang\n",
      "  print.quosures rlang\n",
      "Registered S3 method overwritten by 'rvest':\n",
      "  method            from\n",
      "  read_xml.response xml2\n",
      "-- Attaching packages --------------------------------------- tidyverse 1.2.1 --\n",
      "v ggplot2 3.1.1       v purrr   0.3.2  \n",
      "v tibble  2.1.1       v dplyr   0.8.0.1\n",
      "v tidyr   0.8.3       v stringr 1.4.0  \n",
      "v readr   1.3.1       v forcats 0.4.0  \n",
      "-- Conflicts ------------------------------------------ tidyverse_conflicts() --\n",
      "x dplyr::filter() masks stats::filter()\n",
      "x dplyr::lag()    masks stats::lag()\n"
     ]
    }
   ],
   "source": [
    "library(tidyverse)\n",
    "\n",
    "library(DBI)\n",
    "con <- dbConnect(RSQLite::SQLite(), dbname=\"AllPrintings.sqlite\")\n",
    "\n",
    "#--------------------------------------------------------------------\n",
    "\n",
    "# Multiple plot function\n",
    "#\n",
    "# ggplot objects can be passed in ..., or to plotlist (as a list of ggplot objects)\n",
    "# - cols:   Number of columns in layout\n",
    "# - layout: A matrix specifying the layout. If present, 'cols' is ignored.\n",
    "#\n",
    "# If the layout is something like matrix(c(1,2,3,3), nrow=2, byrow=TRUE),\n",
    "# then plot 1 will go in the upper left, 2 will go in the upper right, and\n",
    "# 3 will go all the way across the bottom.\n",
    "#\n",
    "multiplot <- function(..., plotlist=NULL, file, cols=1, layout=NULL) {\n",
    "  library(grid)\n",
    "\n",
    "  # Make a list from the ... arguments and plotlist\n",
    "  plots <- c(list(...), plotlist)\n",
    "\n",
    "  numPlots = length(plots)\n",
    "\n",
    "  # If layout is NULL, then use 'cols' to determine layout\n",
    "  if (is.null(layout)) {\n",
    "    # Make the panel\n",
    "    # ncol: Number of columns of plots\n",
    "    # nrow: Number of rows needed, calculated from # of cols\n",
    "    layout <- matrix(seq(1, cols * ceiling(numPlots/cols)),\n",
    "                    ncol = cols, nrow = ceiling(numPlots/cols))\n",
    "  }\n",
    "\n",
    " if (numPlots==1) {\n",
    "    print(plots[[1]])\n",
    "\n",
    "  } else {\n",
    "    # Set up the page\n",
    "    grid.newpage()\n",
    "    pushViewport(viewport(layout = grid.layout(nrow(layout), ncol(layout))))\n",
    "\n",
    "    # Make each plot, in the correct location\n",
    "    for (i in 1:numPlots) {\n",
    "      # Get the i,j matrix positions of the regions that contain this subplot\n",
    "      matchidx <- as.data.frame(which(layout == i, arr.ind = TRUE))\n",
    "\n",
    "      print(plots[[i]], vp = viewport(layout.pos.row = matchidx$row,\n",
    "                                      layout.pos.col = matchidx$col))\n",
    "    }\n",
    "  }\n",
    "}\n",
    "\n",
    "#--------------------------------------------------------------------------------------------------"
   ]
  },
  {
   "cell_type": "code",
   "execution_count": 2,
   "metadata": {},
   "outputs": [],
   "source": [
    "cards <- data.frame(dbReadTable(con, \"cards\"))\n",
    "prices <- data.frame(dbReadTable(con, \"prices\"))\n",
    "legalities <- data.frame(dbReadTable(con, \"legalities\"))\n",
    "\n",
    "prices <- prices[grep(\"paper\", prices$type), c(\"uuid\", \"price\")] #only paper prices\n",
    "prices <- prices %>% group_by(uuid) %>% summarize(price = min(price)) #there are cards that have variations, only the cheapest will be included\n",
    "\n",
    "legacy <- legalities[grep(\"legacy\", legalities$format), \"uuid\"] #only legacy-legal cards\n",
    "\n",
    "cards <- cards[cards$isPaper == 1, ]         #only paper,\n",
    "cards <- cards[cards$isOversized == 0, ]     #usual dimension,\n",
    "cards <- cards[cards$layout == \"normal\", ]   #normal layout,\n",
    "cards <- cards[cards$borderColor == \"black\", ] #black bordered,\n",
    "cards <- cards[cards$uuid %in% legacy, ]     #legacy legal cards\n",
    "\n",
    "#binarizing colors:\n",
    "cards$white <- 0\n",
    "cards$white[grep(\"W\", cards$colorIdentity)] <- 1\n",
    "cards$blue <- 0\n",
    "cards$blue[grep(\"U\", cards$colorIdentity)] <- 1\n",
    "cards$black <- 0\n",
    "cards$black[grep(\"B\", cards$colorIdentity)] <- 1\n",
    "cards$red <- 0\n",
    "cards$red[grep(\"R\", cards$colorIdentity)] <- 1\n",
    "cards$green <- 0\n",
    "cards$green[grep(\"G\", cards$colorIdentity)] <- 1\n",
    "colnames(cards)[colnames(cards) == \"colorIdentity\"] <- \"colorless\" #colorIdentity becomes the colorless column\n",
    "cards$colorless[!is.na(cards$colorless)] <- 0 #the rows where colorIdentity had value get colorless = 0\n",
    "cards$colorless[is.na(cards$colorless)] <- 1 #the remaining (where colorIdentity was NA) get 1\n",
    "\n",
    "#setting the data types correctly:\n",
    "suppressWarnings(cards$loyalty <- cards$loyalty %>% as.numeric())\n",
    "suppressWarnings(cards$power <- cards$power %>% as.numeric())\n",
    "suppressWarnings(cards$toughness <- cards$toughness %>% as.numeric())\n",
    "suppressWarnings(cards$colorless <- cards$colorless %>% as.numeric())\n",
    "\n",
    "# joining the tables in a single dataframe\n",
    "df <- merge(cards, prices, by=\"uuid\")\n",
    "\n",
    "# dropping cards columns:\n",
    "df <- df[, c(\"name\", \"convertedManaCost\", \"white\", \"blue\", \"black\", \"red\", \"green\", \"colorless\", \"supertypes\", \"types\", \"subtypes\", \"rarity\", \n",
    "             \"setCode\", \"loyalty\", \"power\", \"toughness\", \"price\")]\n",
    "\n",
    "df <- df[sample(nrow(df), 30000), ]"
   ]
  },
  {
   "cell_type": "markdown",
   "metadata": {
    "jupyter": {
     "source_hidden": true
    }
   },
   "source": [
    "Dopo le modifiche iniziali, il dataset contiene 41033 righe (carte), ognuna con i seguenti attributi:\n",
    "<table>\n",
    "  <tr>\n",
    "    <td><b>Attributo</b></td>\n",
    "    <td><b>Descrizione</b></td>\n",
    "    <td><b>Valori</b></td>\n",
    "  </tr>\n",
    "  <tr>\n",
    "    <td><b>artist</b></td>\n",
    "    <td>Nome completo dell'artista che ha disegnato la carta</td>\n",
    "    <td>Character</td>\n",
    "  </tr>\n",
    "  <tr>\n",
    "    <td><b>colorIdentity</b></td>\n",
    "    <td>Uno o più colori attribuiti alla carta</td>\n",
    "    <td>\"W\", \"U\", \"B\", \"R\", \"G\"</td>\n",
    "  </tr>\n",
    "  <tr>\n",
    "    <td><b>manaCost</b></td>\n",
    "    <td>Quanto di ogni tipo di mana è richiesto per giocare la carta</td>\n",
    "    <td>Character (un numero, corrispondente al mana non specifico, seguito da una serie di mana specifici</td>\n",
    "  </tr>\n",
    "  <tr>\n",
    "    <td><b>convertedManaCost</b></td>\n",
    "    <td>l'ammontare totale di mana</td>\n",
    "    <td>Numeric (range 0 - 16)</td>\n",
    "  </tr>\n",
    "  <tr>\n",
    "    <td><b>flavorText</b></td>\n",
    "    <td>non game-related, a tale about the role of the card in the Magic ecosystem</td>\n",
    "    <td>Character</td>\n",
    "  </tr>\n",
    "  <tr>\n",
    "    <td><b>isReserved</b></td>\n",
    "    <td>whether the card is banned from reprints (usually because it's too powerful and ruins the matches)</td>\n",
    "    <td>Boolean (1.076% of the cards are Reserved)</td>\n",
    "  </tr>\n",
    "  <tr>\n",
    "    <td><b>name</b></td>\n",
    "    <td>the card's name</td>\n",
    "    <td>Character</td>\n",
    "  </tr>\n",
    "  <tr>\n",
    "    <td><b>rarity</b></td>\n",
    "    <td>The rarity influences the chance of a card being found in a booster pack.</td>\n",
    "    <td>\"Common\", \"Uncommon\", \"Rare\", or \"Mythic\"</td>\n",
    "  </tr>\n",
    "  <tr>\n",
    "    <td><b>supertypes</b></td>\n",
    "    <td>Some cards have a supertype linked to a particular game rule.</td>\n",
    "    <td>\"Legendary\", \"Snow\", \"Basic\", \"World\"</td>\n",
    "  </tr>\n",
    "  <tr>\n",
    "    <td><b>types</b></td>\n",
    "    <td>the main discriminator among cards, defining its nature</td>\n",
    "    <td>\"Creatures\", \"Artifacts\", \"Enchantments\", \"Sorceries\", \"Instants\", \"Planeswalkers\", \"Lands\"</td>\n",
    "  </tr>\n",
    "  <tr>\n",
    "    <td><b>subtypes</b></td>\n",
    "    <td>The most specific characterization of the card. Usual for Creatures and Planeswalkers, optional for artifacts, enchantments, instants, sorceries and lands</td>\n",
    "    <td>Character</td>\n",
    "  </tr>\n",
    "  <tr>\n",
    "    <td><b>loyalty</b></td>\n",
    "    <td>(only for the Planeswalker type) value of loyalty the card enters the battlefield with</td>\n",
    "    <td>Numeric (range 2 - 7)</td>\n",
    "  </tr>\n",
    "  <tr>\n",
    "    <td><b>power</b></td>\n",
    "    <td>(only for the Creature type) The damage this creature deals to other creatures and players in a fight</td>\n",
    "    <td>Numeric (range -1 - 16)</td>\n",
    "  </tr>\n",
    "  <tr>\n",
    "    <td><b>toughness</b></td>\n",
    "    <td>(only for the Creature type) The damage this creature can sustain before dying</td>\n",
    "    <td>Numeric (range -1 - 16)</td>\n",
    "  </tr>\n",
    "  <tr>\n",
    "    <td><b>setCode</b></td>\n",
    "    <td>The edition of this instance of the card</td>\n",
    "    <td>A 3 to 4 character</td>\n",
    "  </tr>\n",
    "  <tr>\n",
    "    <td><b>text</b></td>\n",
    "    <td>The effects of the card</td>\n",
    "    <td>Character</td>\n",
    "  </tr>\n",
    "  <tr>\n",
    "    <td><b>uuid</b></td>\n",
    "    <td>unique identifier of the card</td>\n",
    "    <td>Character</td>\n",
    "  </tr>\n",
    "</table>"
   ]
  },
  {
   "cell_type": "markdown",
   "metadata": {},
   "source": [
    "Il dataset iniziale conteneva più di 200000 righe, ma queste comprendevano ogni ristampa, nonchè carte ironiche mai pensate per essere giocate e dunque non conformi alle regole del gioco, e altre tipologie di carte utilizzabili solo in contesti speciali. Vi era poi, come è facile prevedere, un gran numero di errori o ambiguità nel dataset. Per tutti questi motivi, uniti alla necessità di utilizzare le tecniche della statistica inferenziale e della teoria della probabilità, si è optato per un campionamento, riducendo a 30000 i data point, e curandosi di mantenere quanto più alta possibile la significatività."
   ]
  },
  {
   "cell_type": "markdown",
   "metadata": {},
   "source": [
    "## Panoramica\n",
    "Ciò che tutte le carte condividono è un costo di mana per essere giocate, questa sarà allora la variabile di partenza sulla quale ogni discrimine verrà evidenziato. Occorre precisare che questo costo viene detratto dal mana totale che un giocatore può attingere ogni turno dalle proprie carte terra, e che egli può giocare al massimo una carta terra in ogni suo turno, sicchè ci si attende dalle carte un impatto sul gioco proporzionale al proprio costo."
   ]
  },
  {
   "cell_type": "code",
   "execution_count": 21,
   "metadata": {},
   "outputs": [
    {
     "data": {
      "image/png": "[encoded data removed]",
      "text/plain": [
       "plot without title"
      ]
     },
     "metadata": {},
     "output_type": "display_data"
    }
   ],
   "source": [
    "cmc <- ggplot(df, aes(convertedManaCost))\n",
    "cmc + geom_bar()"
   ]
  },
  {
   "cell_type": "code",
   "execution_count": 22,
   "metadata": {
    "collapsed": true,
    "jupyter": {
     "outputs_hidden": true,
     "source_hidden": true
    }
   },
   "outputs": [
    {
     "data": {
      "text/plain": [
       "     name           convertedManaCost     white             blue       \n",
       " Length:30000       Min.   : 0.000    Min.   :0.0000   Min.   :0.0000  \n",
       " Class :character   1st Qu.: 2.000    1st Qu.:0.0000   1st Qu.:0.0000  \n",
       " Mode  :character   Median : 3.000    Median :0.0000   Median :0.0000  \n",
       "                    Mean   : 3.047    Mean   :0.2122   Mean   :0.2126  \n",
       "                    3rd Qu.: 4.000    3rd Qu.:0.0000   3rd Qu.:0.0000  \n",
       "                    Max.   :16.000    Max.   :1.0000   Max.   :1.0000  \n",
       "                                                                       \n",
       "     black             red             green          colorless     \n",
       " Min.   :0.0000   Min.   :0.0000   Min.   :0.0000   Min.   :0.0000  \n",
       " 1st Qu.:0.0000   1st Qu.:0.0000   1st Qu.:0.0000   1st Qu.:0.0000  \n",
       " Median :0.0000   Median :0.0000   Median :0.0000   Median :0.0000  \n",
       " Mean   :0.2183   Mean   :0.2167   Mean   :0.2208   Mean   :0.0988  \n",
       " 3rd Qu.:0.0000   3rd Qu.:0.0000   3rd Qu.:0.0000   3rd Qu.:0.0000  \n",
       " Max.   :1.0000   Max.   :1.0000   Max.   :1.0000   Max.   :1.0000  \n",
       "                                                                    \n",
       "  supertypes           types             subtypes            rarity         \n",
       " Length:30000       Length:30000       Length:30000       Length:30000      \n",
       " Class :character   Class :character   Class :character   Class :character  \n",
       " Mode  :character   Mode  :character   Mode  :character   Mode  :character  \n",
       "                                                                            \n",
       "                                                                            \n",
       "                                                                            \n",
       "                                                                            \n",
       "   setCode             loyalty          power          toughness     \n",
       " Length:30000       Min.   :2.000   Min.   :-1.000   Min.   :-1.000  \n",
       " Class :character   1st Qu.:3.000   1st Qu.: 1.000   1st Qu.: 1.000  \n",
       " Mode  :character   Median :4.000   Median : 2.000   Median : 2.000  \n",
       "                    Mean   :4.335   Mean   : 2.639   Mean   : 2.816  \n",
       "                    3rd Qu.:5.000   3rd Qu.: 4.000   3rd Qu.: 4.000  \n",
       "                    Max.   :7.000   Max.   :15.000   Max.   :15.000  \n",
       "                    NA's   :29645   NA's   :15740    NA's   :15720   \n",
       "     price         \n",
       " Min.   :   0.010  \n",
       " 1st Qu.:   0.100  \n",
       " Median :   0.220  \n",
       " Mean   :   3.932  \n",
       " 3rd Qu.:   0.960  \n",
       " Max.   :2200.000  \n",
       "                   "
      ]
     },
     "metadata": {},
     "output_type": "display_data"
    }
   ],
   "source": [
    "summary(df)"
   ]
  },
  {
   "cell_type": "code",
   "execution_count": 25,
   "metadata": {
    "collapsed": true,
    "jupyter": {
     "outputs_hidden": true,
     "source_hidden": true
    }
   },
   "outputs": [
    {
     "data": {
      "text/html": [
       "1.94898474631915"
      ],
      "text/latex": [
       "1.94898474631915"
      ],
      "text/markdown": [
       "1.94898474631915"
      ],
      "text/plain": [
       "[1] 1.948985"
      ]
     },
     "metadata": {},
     "output_type": "display_data"
    },
    {
     "data": {
      "text/html": [
       "0.639619555091447"
      ],
      "text/latex": [
       "0.639619555091447"
      ],
      "text/markdown": [
       "0.639619555091447"
      ],
      "text/plain": [
       "[1] 0.6396196"
      ]
     },
     "metadata": {},
     "output_type": "display_data"
    }
   ],
   "source": [
    "sd(df$convertedManaCost, )\n",
    "sd(df$convertedManaCost, ) / mean(df$convertedManaCost)"
   ]
  },
  {
   "cell_type": "markdown",
   "metadata": {},
   "source": [
    "E' subito evidente come la distribuzione sia positivamente asimmetrica, per quanto media e mediana siano quasi coincidenti (mediana = 3, media = 3.047). La variabilità è contenuta, con scarto quadratico medio di 1.95 e coefficiente di variazione 0.64."
   ]
  },
  {
   "cell_type": "markdown",
   "metadata": {},
   "source": [
    "L'altra caratteristica numerica comune ad ogni carta è il suo prezzo sul mercato secondario, cioè quello di compravendita tra privati. Vediamo allora come questa si inquadra nell'analisi e in relazione alla variabile appena esplorata:"
   ]
  },
  {
   "cell_type": "code",
   "execution_count": null,
   "metadata": {},
   "outputs": [],
   "source": []
  },
  {
   "cell_type": "markdown",
   "metadata": {},
   "source": [
    "## Analisi per Colore"
   ]
  },
  {
   "cell_type": "markdown",
   "metadata": {},
   "source": [
    "## Analisi di Creature"
   ]
  }
 ],
 "metadata": {
  "kernelspec": {
   "display_name": "R",
   "language": "R",
   "name": "ir"
  },
  "language_info": {
   "codemirror_mode": "r",
   "file_extension": ".r",
   "mimetype": "text/x-r-source",
   "name": "R",
   "pygments_lexer": "r",
   "version": "3.6.1"
  }
 },
 "nbformat": 4,
 "nbformat_minor": 4
}
